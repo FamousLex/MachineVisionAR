{
 "cells": [
  {
   "cell_type": "code",
   "execution_count": 1,
   "id": "c727da80-fee0-4835-8ab1-47981d8c28d9",
   "metadata": {},
   "outputs": [],
   "source": [
    "import torch\n",
    "from IPython.display import Image, clear_output # to display images"
   ]
  },
  {
   "cell_type": "code",
   "execution_count": 2,
   "id": "c33801e4-274a-4754-baae-979dd4146666",
   "metadata": {},
   "outputs": [
    {
     "name": "stdout",
     "output_type": "stream",
     "text": [
      "Setup complete. Using torch 2.2.1 _CudaDeviceProperties(name='NVIDIA RTX A4000', major=8, minor=6, total_memory=16375MB, multi_processor_count=48)\n"
     ]
    }
   ],
   "source": [
    "print('Setup complete. Using torch %s %s' % (torch.__version__, torch.cuda.get_device_properties(0) if torch.cuda.is_available() else 'CPU'))"
   ]
  },
  {
   "cell_type": "code",
   "execution_count": 3,
   "id": "31b6fe2e-a90d-4e28-bca8-6a5b5a73b9c4",
   "metadata": {},
   "outputs": [
    {
     "name": "stdout",
     "output_type": "stream",
     "text": [
      "True\n",
      "0\n",
      "NVIDIA RTX A4000\n"
     ]
    }
   ],
   "source": [
    "print(torch.cuda.is_available())  # Should print True\n",
    "print(torch.cuda.current_device())  # Should print 0 for the first GPU\n",
    "print(torch.cuda.get_device_name(0))  # Should print the name of your GPU"
   ]
  },
  {
   "cell_type": "code",
   "execution_count": 4,
   "id": "58f636af-b1d6-425c-bc85-1e7a3ccd58b8",
   "metadata": {},
   "outputs": [],
   "source": [
    "from ultralytics import YOLO"
   ]
  },
  {
   "cell_type": "code",
   "execution_count": 7,
   "id": "95a1e430-72e9-4a01-83c0-3b93c6298b70",
   "metadata": {},
   "outputs": [
    {
     "name": "stderr",
     "output_type": "stream",
     "text": [
      "\n",
      "  0%|          | 0.00/755k [00:00<?, ?B/s]\n",
      "100%|##########| 755k/755k [00:00<00:00, 18.5MB/s]\n",
      "\n",
      "  0%|          | 0.00/6.23M [00:00<?, ?B/s]\n",
      " 32%|###2      | 2.02M/6.23M [00:00<00:00, 21.0MB/s]\n",
      " 72%|#######1  | 4.47M/6.23M [00:00<00:00, 23.7MB/s]\n",
      "100%|##########| 6.23M/6.23M [00:00<00:00, 24.0MB/s]\n",
      "\n",
      "\u001b[34m\u001b[1mtrain: \u001b[0mScanning D:\\Alex\\MachineVisionAR\\objDetection\\datasets\\data\\labels\\train...:   0%|          | 0/1540 [00:00<?, ?it/s]\n",
      "\u001b[34m\u001b[1mtrain: \u001b[0mScanning D:\\Alex\\MachineVisionAR\\objDetection\\datasets\\data\\labels\\train... 1 images, 0 backgrounds, 0 corrupt:   0%|          | 1/1540 [00:00<02:44,  9.35it/s]\n",
      "\u001b[34m\u001b[1mtrain: \u001b[0mScanning D:\\Alex\\MachineVisionAR\\objDetection\\datasets\\data\\labels\\train... 35 images, 0 backgrounds, 0 corrupt:   2%|2         | 35/1540 [00:00<00:07, 196.38it/s]\n",
      "\u001b[34m\u001b[1mtrain: \u001b[0mScanning D:\\Alex\\MachineVisionAR\\objDetection\\datasets\\data\\labels\\train... 69 images, 0 backgrounds, 0 corrupt:   4%|4         | 69/1540 [00:00<00:05, 255.30it/s]\n",
      "\u001b[34m\u001b[1mtrain: \u001b[0mScanning D:\\Alex\\MachineVisionAR\\objDetection\\datasets\\data\\labels\\train... 116 images, 0 backgrounds, 0 corrupt:   8%|7         | 116/1540 [00:00<00:04, 329.69it/s]\n",
      "\u001b[34m\u001b[1mtrain: \u001b[0mScanning D:\\Alex\\MachineVisionAR\\objDetection\\datasets\\data\\labels\\train... 164 images, 0 backgrounds, 0 corrupt:  11%|#         | 164/1540 [00:00<00:03, 372.15it/s]\n",
      "\u001b[34m\u001b[1mtrain: \u001b[0mScanning D:\\Alex\\MachineVisionAR\\objDetection\\datasets\\data\\labels\\train... 202 images, 0 backgrounds, 0 corrupt:  13%|#3        | 202/1540 [00:00<00:03, 364.37it/s]\n",
      "\u001b[34m\u001b[1mtrain: \u001b[0mScanning D:\\Alex\\MachineVisionAR\\objDetection\\datasets\\data\\labels\\train... 243 images, 0 backgrounds, 0 corrupt:  16%|#5        | 243/1540 [00:00<00:03, 371.14it/s]\n",
      "\u001b[34m\u001b[1mtrain: \u001b[0mScanning D:\\Alex\\MachineVisionAR\\objDetection\\datasets\\data\\labels\\train... 281 images, 0 backgrounds, 0 corrupt:  18%|#8        | 281/1540 [00:00<00:03, 372.06it/s]\n",
      "\u001b[34m\u001b[1mtrain: \u001b[0mScanning D:\\Alex\\MachineVisionAR\\objDetection\\datasets\\data\\labels\\train... 319 images, 0 backgrounds, 0 corrupt:  21%|##        | 319/1540 [00:00<00:03, 365.23it/s]\n",
      "\u001b[34m\u001b[1mtrain: \u001b[0mScanning D:\\Alex\\MachineVisionAR\\objDetection\\datasets\\data\\labels\\train... 356 images, 0 backgrounds, 0 corrupt:  23%|##3       | 356/1540 [00:01<00:03, 344.19it/s]\n",
      "\u001b[34m\u001b[1mtrain: \u001b[0mScanning D:\\Alex\\MachineVisionAR\\objDetection\\datasets\\data\\labels\\train... 391 images, 0 backgrounds, 0 corrupt:  25%|##5       | 391/1540 [00:01<00:03, 338.76it/s]\n",
      "\u001b[34m\u001b[1mtrain: \u001b[0mScanning D:\\Alex\\MachineVisionAR\\objDetection\\datasets\\data\\labels\\train... 431 images, 0 backgrounds, 0 corrupt:  28%|##7       | 431/1540 [00:01<00:03, 345.10it/s]\n",
      "\u001b[34m\u001b[1mtrain: \u001b[0mScanning D:\\Alex\\MachineVisionAR\\objDetection\\datasets\\data\\labels\\train... 476 images, 0 backgrounds, 0 corrupt:  31%|###       | 476/1540 [00:01<00:02, 373.24it/s]\n",
      "\u001b[34m\u001b[1mtrain: \u001b[0mScanning D:\\Alex\\MachineVisionAR\\objDetection\\datasets\\data\\labels\\train... 519 images, 0 backgrounds, 0 corrupt:  34%|###3      | 519/1540 [00:01<00:02, 386.28it/s]\n",
      "\u001b[34m\u001b[1mtrain: \u001b[0mScanning D:\\Alex\\MachineVisionAR\\objDetection\\datasets\\data\\labels\\train... 559 images, 0 backgrounds, 0 corrupt:  36%|###6      | 559/1540 [00:01<00:02, 379.97it/s]\n",
      "\u001b[34m\u001b[1mtrain: \u001b[0mScanning D:\\Alex\\MachineVisionAR\\objDetection\\datasets\\data\\labels\\train... 598 images, 0 backgrounds, 0 corrupt:  39%|###8      | 598/1540 [00:01<00:02, 366.35it/s]\n",
      "\u001b[34m\u001b[1mtrain: \u001b[0mScanning D:\\Alex\\MachineVisionAR\\objDetection\\datasets\\data\\labels\\train... 635 images, 0 backgrounds, 0 corrupt:  41%|####1     | 635/1540 [00:01<00:02, 362.69it/s]\n",
      "\u001b[34m\u001b[1mtrain: \u001b[0mScanning D:\\Alex\\MachineVisionAR\\objDetection\\datasets\\data\\labels\\train... 672 images, 0 backgrounds, 0 corrupt:  44%|####3     | 672/1540 [00:01<00:02, 354.56it/s]\n",
      "\u001b[34m\u001b[1mtrain: \u001b[0mScanning D:\\Alex\\MachineVisionAR\\objDetection\\datasets\\data\\labels\\train... 711 images, 0 backgrounds, 0 corrupt:  46%|####6     | 711/1540 [00:02<00:02, 361.09it/s]\n",
      "\u001b[34m\u001b[1mtrain: \u001b[0mScanning D:\\Alex\\MachineVisionAR\\objDetection\\datasets\\data\\labels\\train... 751 images, 0 backgrounds, 0 corrupt:  49%|####8     | 751/1540 [00:02<00:02, 372.13it/s]\n",
      "\u001b[34m\u001b[1mtrain: \u001b[0mScanning D:\\Alex\\MachineVisionAR\\objDetection\\datasets\\data\\labels\\train... 789 images, 0 backgrounds, 0 corrupt:  51%|#####1    | 789/1540 [00:02<00:02, 358.02it/s]\n",
      "\u001b[34m\u001b[1mtrain: \u001b[0mScanning D:\\Alex\\MachineVisionAR\\objDetection\\datasets\\data\\labels\\train... 827 images, 0 backgrounds, 0 corrupt:  54%|#####3    | 827/1540 [00:02<00:01, 356.61it/s]\n",
      "\u001b[34m\u001b[1mtrain: \u001b[0mScanning D:\\Alex\\MachineVisionAR\\objDetection\\datasets\\data\\labels\\train... 868 images, 0 backgrounds, 0 corrupt:  56%|#####6    | 868/1540 [00:02<00:01, 369.52it/s]\n",
      "\u001b[34m\u001b[1mtrain: \u001b[0mScanning D:\\Alex\\MachineVisionAR\\objDetection\\datasets\\data\\labels\\train... 914 images, 0 backgrounds, 0 corrupt:  59%|#####9    | 914/1540 [00:02<00:01, 384.93it/s]\n",
      "\u001b[34m\u001b[1mtrain: \u001b[0mScanning D:\\Alex\\MachineVisionAR\\objDetection\\datasets\\data\\labels\\train... 953 images, 0 backgrounds, 0 corrupt:  62%|######1   | 953/1540 [00:02<00:01, 358.86it/s]\n",
      "\u001b[34m\u001b[1mtrain: \u001b[0mScanning D:\\Alex\\MachineVisionAR\\objDetection\\datasets\\data\\labels\\train... 990 images, 0 backgrounds, 0 corrupt:  64%|######4   | 990/1540 [00:02<00:01, 345.83it/s]\n",
      "\u001b[34m\u001b[1mtrain: \u001b[0mScanning D:\\Alex\\MachineVisionAR\\objDetection\\datasets\\data\\labels\\train... 1025 images, 0 backgrounds, 0 corrupt:  67%|######6   | 1025/1540 [00:02<00:01, 335.77it/s]\n",
      "\u001b[34m\u001b[1mtrain: \u001b[0mScanning D:\\Alex\\MachineVisionAR\\objDetection\\datasets\\data\\labels\\train... 1059 images, 0 backgrounds, 0 corrupt:  69%|######8   | 1059/1540 [00:03<00:01, 301.30it/s]\n",
      "\u001b[34m\u001b[1mtrain: \u001b[0mScanning D:\\Alex\\MachineVisionAR\\objDetection\\datasets\\data\\labels\\train... 1090 images, 0 backgrounds, 0 corrupt:  71%|#######   | 1090/1540 [00:03<00:01, 276.43it/s]\n",
      "\u001b[34m\u001b[1mtrain: \u001b[0mScanning D:\\Alex\\MachineVisionAR\\objDetection\\datasets\\data\\labels\\train... 1122 images, 0 backgrounds, 0 corrupt:  73%|#######2  | 1122/1540 [00:03<00:01, 284.04it/s]\n",
      "\u001b[34m\u001b[1mtrain: \u001b[0mScanning D:\\Alex\\MachineVisionAR\\objDetection\\datasets\\data\\labels\\train... 1160 images, 0 backgrounds, 0 corrupt:  75%|#######5  | 1160/1540 [00:03<00:01, 306.58it/s]\n",
      "\u001b[34m\u001b[1mtrain: \u001b[0mScanning D:\\Alex\\MachineVisionAR\\objDetection\\datasets\\data\\labels\\train... 1195 images, 0 backgrounds, 0 corrupt:  78%|#######7  | 1195/1540 [00:03<00:01, 317.13it/s]\n",
      "\u001b[34m\u001b[1mtrain: \u001b[0mScanning D:\\Alex\\MachineVisionAR\\objDetection\\datasets\\data\\labels\\train... 1232 images, 0 backgrounds, 0 corrupt:  80%|########  | 1232/1540 [00:03<00:00, 331.67it/s]\n",
      "\u001b[34m\u001b[1mtrain: \u001b[0mScanning D:\\Alex\\MachineVisionAR\\objDetection\\datasets\\data\\labels\\train... 1272 images, 0 backgrounds, 0 corrupt:  83%|########2 | 1272/1540 [00:03<00:00, 350.26it/s]\n",
      "\u001b[34m\u001b[1mtrain: \u001b[0mScanning D:\\Alex\\MachineVisionAR\\objDetection\\datasets\\data\\labels\\train... 1316 images, 0 backgrounds, 0 corrupt:  85%|########5 | 1316/1540 [00:03<00:00, 366.17it/s]\n",
      "\u001b[34m\u001b[1mtrain: \u001b[0mScanning D:\\Alex\\MachineVisionAR\\objDetection\\datasets\\data\\labels\\train... 1355 images, 0 backgrounds, 0 corrupt:  88%|########7 | 1355/1540 [00:03<00:00, 360.82it/s]\n",
      "\u001b[34m\u001b[1mtrain: \u001b[0mScanning D:\\Alex\\MachineVisionAR\\objDetection\\datasets\\data\\labels\\train... 1394 images, 0 backgrounds, 0 corrupt:  91%|######### | 1394/1540 [00:04<00:00, 354.08it/s]\n",
      "\u001b[34m\u001b[1mtrain: \u001b[0mScanning D:\\Alex\\MachineVisionAR\\objDetection\\datasets\\data\\labels\\train... 1430 images, 0 backgrounds, 0 corrupt:  93%|#########2| 1430/1540 [00:04<00:00, 330.58it/s]\n",
      "\u001b[34m\u001b[1mtrain: \u001b[0mScanning D:\\Alex\\MachineVisionAR\\objDetection\\datasets\\data\\labels\\train... 1471 images, 0 backgrounds, 0 corrupt:  96%|#########5| 1471/1540 [00:04<00:00, 350.05it/s]\n",
      "\u001b[34m\u001b[1mtrain: \u001b[0mScanning D:\\Alex\\MachineVisionAR\\objDetection\\datasets\\data\\labels\\train... 1507 images, 0 backgrounds, 0 corrupt:  98%|#########7| 1507/1540 [00:04<00:00, 352.64it/s]\n",
      "\u001b[34m\u001b[1mtrain: \u001b[0mScanning D:\\Alex\\MachineVisionAR\\objDetection\\datasets\\data\\labels\\train... 1540 images, 0 backgrounds, 0 corrupt: 100%|##########| 1540/1540 [00:04<00:00, 342.73it/s]\n",
      "\n",
      "\u001b[34m\u001b[1mval: \u001b[0mScanning D:\\Alex\\MachineVisionAR\\objDetection\\datasets\\data\\labels\\val...:   0%|          | 0/385 [00:00<?, ?it/s]\n",
      "\u001b[34m\u001b[1mval: \u001b[0mScanning D:\\Alex\\MachineVisionAR\\objDetection\\datasets\\data\\labels\\val... 28 images, 0 backgrounds, 0 corrupt:   7%|7         | 28/385 [00:00<00:01, 276.04it/s]OMP: Error #15: Initializing libiomp5md.dll, but found libiomp5md.dll already initialized.\n",
      "OMP: Hint This means that multiple copies of the OpenMP runtime have been linked into the program. That is dangerous, since it can degrade performance or cause incorrect results. The best thing to do is to ensure that only a single OpenMP runtime is linked into the process, e.g. by avoiding static linking of the OpenMP runtime in any library. As an unsafe, unsupported, undocumented workaround you can set the environment variable KMP_DUPLICATE_LIB_OK=TRUE to allow the program to continue to execute, but that may cause crashes or silently produce incorrect results. For more information, please see http://www.intel.com/software/products/support/.\n",
      "OMP: Error #15: Initializing libiomp5md.dll, but found libiomp5md.dll already initialized.\n",
      "OMP: Hint This means that multiple copies of the OpenMP runtime have been linked into the program. That is dangerous, since it can degrade performance or cause incorrect results. The best thing to do is to ensure that only a single OpenMP runtime is linked into the process, e.g. by avoiding static linking of the OpenMP runtime in any library. As an unsafe, unsupported, undocumented workaround you can set the environment variable KMP_DUPLICATE_LIB_OK=TRUE to allow the program to continue to execute, but that may cause crashes or silently produce incorrect results. For more information, please see http://www.intel.com/software/products/support/.\n",
      "OMP: Error #15: Initializing libiomp5md.dll, but found libiomp5md.dll already initialized.\n",
      "OMP: Hint This means that multiple copies of the OpenMP runtime have been linked into the program. That is dangerous, since it can degrade performance or cause incorrect results. The best thing to do is to ensure that only a single OpenMP runtime is linked into the process, e.g. by avoiding static linking of the OpenMP runtime in any library. As an unsafe, unsupported, undocumented workaround you can set the environment variable KMP_DUPLICATE_LIB_OK=TRUE to allow the program to continue to execute, but that may cause crashes or silently produce incorrect results. For more information, please see http://www.intel.com/software/products/support/.\n",
      "OMP: Error #15: Initializing libiomp5md.dll, but found libiomp5md.dll already initialized.\n",
      "OMP: Hint This means that multiple copies of the OpenMP runtime have been linked into the program. That is dangerous, since it can degrade performance or cause incorrect results. The best thing to do is to ensure that only a single OpenMP runtime is linked into the process, e.g. by avoiding static linking of the OpenMP runtime in any library. As an unsafe, unsupported, undocumented workaround you can set the environment variable KMP_DUPLICATE_LIB_OK=TRUE to allow the program to continue to execute, but that may cause crashes or silently produce incorrect results. For more information, please see http://www.intel.com/software/products/support/.\n",
      "OMP: Error #15: Initializing libiomp5md.dll, but found libiomp5md.dll already initialized.\n",
      "OMP: Hint This means that multiple copies of the OpenMP runtime have been linked into the program. That is dangerous, since it can degrade performance or cause incorrect results. The best thing to do is to ensure that only a single OpenMP runtime is linked into the process, e.g. by avoiding static linking of the OpenMP runtime in any library. As an unsafe, unsupported, undocumented workaround you can set the environment variable KMP_DUPLICATE_LIB_OK=TRUE to allow the program to continue to execute, but that may cause crashes or silently produce incorrect results. For more information, please see http://www.intel.com/software/products/support/.\n",
      "OMP: Error #15: Initializing libiomp5md.dll, but found libiomp5md.dll already initialized.\n",
      "OMP: Hint This means that multiple copies of the OpenMP runtime have been linked into the program. That is dangerous, since it can degrade performance or cause incorrect results. The best thing to do is to ensure that only a single OpenMP runtime is linked into the process, e.g. by avoiding static linking of the OpenMP runtime in any library. As an unsafe, unsupported, undocumented workaround you can set the environment variable KMP_DUPLICATE_LIB_OK=TRUE to allow the program to continue to execute, but that may cause crashes or silently produce incorrect results. For more information, please see http://www.intel.com/software/products/support/.\n",
      "OMP: Error #15: Initializing libiomp5md.dll, but found libiomp5md.dll already initialized.\n",
      "OMP: Hint This means that multiple copies of the OpenMP runtime have been linked into the program. That is dangerous, since it can degrade performance or cause incorrect results. The best thing to do is to ensure that only a single OpenMP runtime is linked into the process, e.g. by avoiding static linking of the OpenMP runtime in any library. As an unsafe, unsupported, undocumented workaround you can set the environment variable KMP_DUPLICATE_LIB_OK=TRUE to allow the program to continue to execute, but that may cause crashes or silently produce incorrect results. For more information, please see http://www.intel.com/software/products/support/.\n",
      "OMP: Error #15: Initializing libiomp5md.dll, but found libiomp5md.dll already initialized.\n",
      "OMP: Hint This means that multiple copies of the OpenMP runtime have been linked into the program. That is dangerous, since it can degrade performance or cause incorrect results. The best thing to do is to ensure that only a single OpenMP runtime is linked into the process, e.g. by avoiding static linking of the OpenMP runtime in any library. As an unsafe, unsupported, undocumented workaround you can set the environment variable KMP_DUPLICATE_LIB_OK=TRUE to allow the program to continue to execute, but that may cause crashes or silently produce incorrect results. For more information, please see http://www.intel.com/software/products/support/.\n",
      "\n",
      "\u001b[34m\u001b[1mval: \u001b[0mScanning D:\\Alex\\MachineVisionAR\\objDetection\\datasets\\data\\labels\\val... 68 images, 0 backgrounds, 0 corrupt:  18%|#7        | 68/385 [00:00<00:00, 345.23it/s]\n",
      "\u001b[34m\u001b[1mval: \u001b[0mScanning D:\\Alex\\MachineVisionAR\\objDetection\\datasets\\data\\labels\\val... 103 images, 0 backgrounds, 0 corrupt:  27%|##6       | 103/385 [00:00<00:00, 290.47it/s]\n",
      "\u001b[34m\u001b[1mval: \u001b[0mScanning D:\\Alex\\MachineVisionAR\\objDetection\\datasets\\data\\labels\\val... 133 images, 0 backgrounds, 0 corrupt:  35%|###4      | 133/385 [00:00<00:00, 292.04it/s]\n",
      "\u001b[34m\u001b[1mval: \u001b[0mScanning D:\\Alex\\MachineVisionAR\\objDetection\\datasets\\data\\labels\\val... 164 images, 0 backgrounds, 0 corrupt:  43%|####2     | 164/385 [00:00<00:00, 296.88it/s]\n",
      "\u001b[34m\u001b[1mval: \u001b[0mScanning D:\\Alex\\MachineVisionAR\\objDetection\\datasets\\data\\labels\\val... 208 images, 0 backgrounds, 0 corrupt:  54%|#####4    | 208/385 [00:00<00:00, 326.34it/s]\n",
      "\u001b[34m\u001b[1mval: \u001b[0mScanning D:\\Alex\\MachineVisionAR\\objDetection\\datasets\\data\\labels\\val... 245 images, 0 backgrounds, 0 corrupt:  64%|######3   | 245/385 [00:00<00:00, 331.70it/s]\n",
      "\u001b[34m\u001b[1mval: \u001b[0mScanning D:\\Alex\\MachineVisionAR\\objDetection\\datasets\\data\\labels\\val... 282 images, 0 backgrounds, 0 corrupt:  73%|#######3  | 282/385 [00:00<00:00, 342.16it/s]\n",
      "\u001b[34m\u001b[1mval: \u001b[0mScanning D:\\Alex\\MachineVisionAR\\objDetection\\datasets\\data\\labels\\val... 324 images, 0 backgrounds, 0 corrupt:  84%|########4 | 324/385 [00:00<00:00, 364.57it/s]\n",
      "\u001b[34m\u001b[1mval: \u001b[0mScanning D:\\Alex\\MachineVisionAR\\objDetection\\datasets\\data\\labels\\val... 361 images, 0 backgrounds, 0 corrupt:  94%|#########3| 361/385 [00:01<00:00, 348.77it/s]\n",
      "\u001b[34m\u001b[1mval: \u001b[0mScanning D:\\Alex\\MachineVisionAR\\objDetection\\datasets\\data\\labels\\val... 385 images, 0 backgrounds, 0 corrupt: 100%|##########| 385/385 [00:01<00:00, 328.99it/s]\n",
      "OMP: Error #15: Initializing libiomp5md.dll, but found libiomp5md.dll already initialized.\n",
      "OMP: Hint This means that multiple copies of the OpenMP runtime have been linked into the program. That is dangerous, since it can degrade performance or cause incorrect results. The best thing to do is to ensure that only a single OpenMP runtime is linked into the process, e.g. by avoiding static linking of the OpenMP runtime in any library. As an unsafe, unsupported, undocumented workaround you can set the environment variable KMP_DUPLICATE_LIB_OK=TRUE to allow the program to continue to execute, but that may cause crashes or silently produce incorrect results. For more information, please see http://www.intel.com/software/products/support/.\n"
     ]
    },
    {
     "name": "stdout",
     "output_type": "stream",
     "text": [
      "Ultralytics YOLOv8.1.18 ðŸš€ Python-3.11.7 torch-2.2.1 CUDA:0 (NVIDIA RTX A4000, 16376MiB)\n",
      "\u001b[34m\u001b[1mengine\\trainer: \u001b[0mtask=detect, mode=train, model=yolov8s.pt, data=data_config.yaml, epochs=25, time=None, patience=100, batch=16, imgsz=224, save=True, save_period=-1, cache=False, device=None, workers=8, project=None, name=train3, exist_ok=False, pretrained=True, optimizer=auto, verbose=True, seed=0, deterministic=True, single_cls=False, rect=False, cos_lr=False, close_mosaic=10, resume=False, amp=True, fraction=1.0, profile=False, freeze=None, multi_scale=False, overlap_mask=True, mask_ratio=4, dropout=0.0, val=True, split=val, save_json=False, save_hybrid=False, conf=None, iou=0.7, max_det=300, half=False, dnn=False, plots=True, source=None, vid_stride=1, stream_buffer=False, visualize=False, augment=False, agnostic_nms=False, classes=None, retina_masks=False, embed=None, show=False, save_frames=False, save_txt=False, save_conf=False, save_crop=False, show_labels=True, show_conf=True, show_boxes=True, line_width=None, format=torchscript, keras=False, optimize=False, int8=False, dynamic=False, simplify=False, opset=None, workspace=4, nms=False, lr0=0.01, lrf=0.01, momentum=0.937, weight_decay=0.0005, warmup_epochs=3.0, warmup_momentum=0.8, warmup_bias_lr=0.1, box=7.5, cls=0.5, dfl=1.5, pose=12.0, kobj=1.0, label_smoothing=0.0, nbs=64, hsv_h=0.015, hsv_s=0.7, hsv_v=0.4, degrees=0.0, translate=0.1, scale=0.5, shear=0.0, perspective=0.0, flipud=0.0, fliplr=0.5, mosaic=1.0, mixup=0.0, copy_paste=0.0, auto_augment=randaugment, erasing=0.4, crop_fraction=1.0, cfg=None, tracker=botsort.yaml, save_dir=runs\\detect\\train3\n",
      "Downloading https://ultralytics.com/assets/Arial.ttf to 'C:\\Users\\absolomo\\AppData\\Roaming\\Ultralytics\\Arial.ttf'...\n",
      "Overriding model.yaml nc=80 with nc=1\n",
      "\n",
      "                   from  n    params  module                                       arguments                     \n",
      "  0                  -1  1       928  ultralytics.nn.modules.conv.Conv             [3, 32, 3, 2]                 \n",
      "  1                  -1  1     18560  ultralytics.nn.modules.conv.Conv             [32, 64, 3, 2]                \n",
      "  2                  -1  1     29056  ultralytics.nn.modules.block.C2f             [64, 64, 1, True]             \n",
      "  3                  -1  1     73984  ultralytics.nn.modules.conv.Conv             [64, 128, 3, 2]               \n",
      "  4                  -1  2    197632  ultralytics.nn.modules.block.C2f             [128, 128, 2, True]           \n",
      "  5                  -1  1    295424  ultralytics.nn.modules.conv.Conv             [128, 256, 3, 2]              \n",
      "  6                  -1  2    788480  ultralytics.nn.modules.block.C2f             [256, 256, 2, True]           \n",
      "  7                  -1  1   1180672  ultralytics.nn.modules.conv.Conv             [256, 512, 3, 2]              \n",
      "  8                  -1  1   1838080  ultralytics.nn.modules.block.C2f             [512, 512, 1, True]           \n",
      "  9                  -1  1    656896  ultralytics.nn.modules.block.SPPF            [512, 512, 5]                 \n",
      " 10                  -1  1         0  torch.nn.modules.upsampling.Upsample         [None, 2, 'nearest']          \n",
      " 11             [-1, 6]  1         0  ultralytics.nn.modules.conv.Concat           [1]                           \n",
      " 12                  -1  1    591360  ultralytics.nn.modules.block.C2f             [768, 256, 1]                 \n",
      " 13                  -1  1         0  torch.nn.modules.upsampling.Upsample         [None, 2, 'nearest']          \n",
      " 14             [-1, 4]  1         0  ultralytics.nn.modules.conv.Concat           [1]                           \n",
      " 15                  -1  1    148224  ultralytics.nn.modules.block.C2f             [384, 128, 1]                 \n",
      " 16                  -1  1    147712  ultralytics.nn.modules.conv.Conv             [128, 128, 3, 2]              \n",
      " 17            [-1, 12]  1         0  ultralytics.nn.modules.conv.Concat           [1]                           \n",
      " 18                  -1  1    493056  ultralytics.nn.modules.block.C2f             [384, 256, 1]                 \n",
      " 19                  -1  1    590336  ultralytics.nn.modules.conv.Conv             [256, 256, 3, 2]              \n",
      " 20             [-1, 9]  1         0  ultralytics.nn.modules.conv.Concat           [1]                           \n",
      " 21                  -1  1   1969152  ultralytics.nn.modules.block.C2f             [768, 512, 1]                 \n",
      " 22        [15, 18, 21]  1   2116435  ultralytics.nn.modules.head.Detect           [1, [128, 256, 512]]          \n",
      "Model summary: 225 layers, 11135987 parameters, 11135971 gradients, 28.6 GFLOPs\n",
      "\n",
      "Transferred 349/355 items from pretrained weights\n",
      "Freezing layer 'model.22.dfl.conv.weight'\n",
      "\u001b[34m\u001b[1mAMP: \u001b[0mrunning Automatic Mixed Precision (AMP) checks with YOLOv8n...\n",
      "Downloading https://github.com/ultralytics/assets/releases/download/v8.1.0/yolov8n.pt to 'yolov8n.pt'...\n",
      "\u001b[34m\u001b[1mAMP: \u001b[0mchecks passed âœ…\n",
      "\u001b[34m\u001b[1mtrain: \u001b[0mNew cache created: D:\\Alex\\MachineVisionAR\\objDetection\\datasets\\data\\labels\\train.cache\n",
      "\u001b[34m\u001b[1mval: \u001b[0mNew cache created: D:\\Alex\\MachineVisionAR\\objDetection\\datasets\\data\\labels\\val.cache\n",
      "Plotting labels to runs\\detect\\train3\\labels.jpg... \n"
     ]
    }
   ],
   "source": [
    "!yolo task=detect mode=train model=yolov8s.pt data= data_config.yaml epochs=25 imgsz=224 plots=True"
   ]
  },
  {
   "cell_type": "code",
   "execution_count": null,
   "id": "7306409f-c519-4448-890d-9f39d1ef70fc",
   "metadata": {},
   "outputs": [],
   "source": []
  }
 ],
 "metadata": {
  "kernelspec": {
   "display_name": "Python 3 (ipykernel)",
   "language": "python",
   "name": "python3"
  },
  "language_info": {
   "codemirror_mode": {
    "name": "ipython",
    "version": 3
   },
   "file_extension": ".py",
   "mimetype": "text/x-python",
   "name": "python",
   "nbconvert_exporter": "python",
   "pygments_lexer": "ipython3",
   "version": "3.11.7"
  }
 },
 "nbformat": 4,
 "nbformat_minor": 5
}
